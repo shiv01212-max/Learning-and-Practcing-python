{
  "nbformat": 4,
  "nbformat_minor": 0,
  "metadata": {
    "colab": {
      "name": "Assignment - Loops & Iterations.ipynb",
      "provenance": [],
      "collapsed_sections": [],
      "include_colab_link": true
    },
    "kernelspec": {
      "name": "python3",
      "display_name": "Python 3"
    }
  },
  "cells": [
    {
      "cell_type": "markdown",
      "metadata": {
        "id": "view-in-github",
        "colab_type": "text"
      },
      "source": [
        "<a href=\"https://colab.research.google.com/github/shiv01212-max/Learning-and-Practcing-python/blob/main/Loops_%26_Iterations.ipynb\" target=\"_parent\"><img src=\"https://colab.research.google.com/assets/colab-badge.svg\" alt=\"Open In Colab\"/></a>"
      ]
    },
    {
      "cell_type": "markdown",
      "metadata": {
        "id": "DbG5aM4YkzEn"
      },
      "source": [
        "#### The SETI Institute is a not-for-profit research organization incorporated in 1984 whose mission is to explore, understand, and explain the origin and nature of life in the universe, and to apply the knowledge gained to inspire and guide present and future generations. It aims for discovery and for sharing knowledge as scientific ambassadors to the public, the press, and the government. SETI stands for the \"Search for Extraterrestrial Intelligence\".\n",
        "\n",
        "#### SETI received some signals from a far away galaxy on June 14, 2012. These signals could have been from a possible alien civilization (similar to what you would have seen in the movie Arrival).\n",
        "\n",
        "#### The signals indicated the existence of a secret language for sending messages across. Following are the observations made by the SETI team who discovered these signals :\n",
        "\n",
        "*   Aliens share a **tuple**, each element of tuple will be a **string** of alphabets\n",
        "*   Scientists still don't know what is the content of the strings inside the tuples but depending upon the length of the string, the string translates into an alphabet (0 ≡  ,1 ≡ A, 2 ≡ B, 3 ≡ C, .., 26 ≡ Z)\n",
        "*   **Space** between the words of the message is represented by an **empty string**\n",
        "\n",
        "<br> <u>A sample message received by SETI </u><br>\n",
        "\n",
        "**ADAM EVE** is denoted by the following tuple:\n",
        "\n",
        "<code>\n",
        " t = (\"s\", \"dymw\", \"z\", \"ndkjaakjkjnda\",\"\",\"tybhg\",\"nmbcjbabdbsabbsbhdbshr\",\"htroy\" )</code>\n",
        "\n",
        "\n",
        "Explanation:\n",
        "* A list of length of each element in the tuple is : <code>[1,4,1,13,0,5,22,5]</code>\n",
        "* Upon replacing numbers with corresponding alphabets and spaces, we get : \n",
        "<code>['A','D','A','M','','E','V','E'] </code>\n",
        "\n",
        "\n",
        "\n",
        "\n",
        "\n",
        "\n",
        "\n",
        "\n"
      ]
    },
    {
      "cell_type": "markdown",
      "metadata": {
        "id": "OpbPVo_bwo2B"
      },
      "source": [
        "### <u>Problem 1</u>\n",
        "\n",
        "#### Create a dictionary where the key corresponds to the position of the alphabet(consider space as the first alphabet) and the value corresponding to the key will be the alphabet.\n",
        "\n",
        "#### <code>range()</code> function in Python is pretty useful to get a list of numbers in sequence. You can use <code>help(range)</code> to know more about its details"
      ]
    },
    {
      "cell_type": "code",
      "metadata": {
        "id": "l9K6_UWqkyOC",
        "colab": {
          "base_uri": "https://localhost:8080/"
        },
        "outputId": "d0f2bba2-8931-4e28-8bde-4794eefee153"
      },
      "source": [
        "# Create your dictionary below with keys as position of the alphabet and the value of the key will be the alphabet itself\n",
        "\n",
        "# Create a list of numbers from 0 to 26 using the range() function\n",
        "list_of_numbers = list(range(27))\n",
        "print(list_of_numbers)\n",
        "\n",
        "# Create the list of alphabets. Hint use the split() method\n",
        "alphabets = \" ,a,b,c,d,e,f,g,h,i,j,k,l,m,n,o,p,q,r,s,t,u,v,w,x,y,z\"\n",
        "alphabet_list = list(alphabets.split(','))\n",
        "\n",
        "print(alphabet_list)"
      ],
      "execution_count": null,
      "outputs": [
        {
          "output_type": "stream",
          "name": "stdout",
          "text": [
            "[0, 1, 2, 3, 4, 5, 6, 7, 8, 9, 10, 11, 12, 13, 14, 15, 16, 17, 18, 19, 20, 21, 22, 23, 24, 25, 26]\n",
            "[' ', 'a', 'b', 'c', 'd', 'e', 'f', 'g', 'h', 'i', 'j', 'k', 'l', 'm', 'n', 'o', 'p', 'q', 'r', 's', 't', 'u', 'v', 'w', 'x', 'y', 'z']\n"
          ]
        }
      ]
    },
    {
      "cell_type": "code",
      "metadata": {
        "id": "9bnRPQ9G971m",
        "colab": {
          "base_uri": "https://localhost:8080/"
        },
        "outputId": "422d1ce8-32cf-4cd8-9d24-719e252934a5"
      },
      "source": [
        "# Create a dictionary by zipping together the above two lists\n",
        "alphabet_dict = dict(zip(list_of_numbers,alphabet_list))\n",
        "\n",
        "\n",
        "# Print your dictionary to double check;\n",
        "print(alphabet_dict)"
      ],
      "execution_count": null,
      "outputs": [
        {
          "output_type": "stream",
          "name": "stdout",
          "text": [
            "{0: ' ', 1: 'a', 2: 'b', 3: 'c', 4: 'd', 5: 'e', 6: 'f', 7: 'g', 8: 'h', 9: 'i', 10: 'j', 11: 'k', 12: 'l', 13: 'm', 14: 'n', 15: 'o', 16: 'p', 17: 'q', 18: 'r', 19: 's', 20: 't', 21: 'u', 22: 'v', 23: 'w', 24: 'x', 25: 'y', 26: 'z'}\n"
          ]
        }
      ]
    },
    {
      "cell_type": "markdown",
      "metadata": {
        "id": "Lv-n7NZqKxET"
      },
      "source": [
        "### <u>Problem 2</u>\n",
        "#### Scientists receive the following message code from the alien civilization\n",
        "\n",
        "```\n",
        "encrypyted_message = (\"ajsuydtbe\", \"\", \"wunjbfusnjrgut\", \"uhbhr\", \"oirun\", \"lpef\", \"\", \"vhejsibr\", \"ydtse\", \"qlvuusrntuos\", \"ijwlbutybhlsoaxh\")\n",
        "```\n",
        "#### You have been asked to decode the above message "
      ]
    },
    {
      "cell_type": "code",
      "metadata": {
        "id": "7CC7IqIdKP-q"
      },
      "source": [
        "# Store the message in a variable \n",
        "encrypted_message = (\"ajsuydtbe\", \"\", \"wunjbfusnjrgut\", \"uhbhr\", \"oirun\", \"lpef\", \"\", \"vhejsibr\", \"ydtse\", \"qlvuusrntuos\", \"ijwlbutybhlsoaxh\")"
      ],
      "execution_count": null,
      "outputs": []
    },
    {
      "cell_type": "code",
      "metadata": {
        "id": "fxLQFN5QMH0I",
        "colab": {
          "base_uri": "https://localhost:8080/"
        },
        "outputId": "afe52c09-f923-45a5-8d96-48367b981fe7"
      },
      "source": [
        "# Follow the steps from your solution to problem 1\n",
        "\n",
        "# Create an empty list \n",
        "string_length_list  = []\n",
        "\n",
        "# Append the length of strings of your tuple using a for loop\n",
        "for string_length in encrypted_message :\n",
        "  string_length_list.append(len(string_length))\n",
        "\n",
        "\n",
        "# Print the list of string lengths \n",
        "print(string_length_list)"
      ],
      "execution_count": null,
      "outputs": [
        {
          "output_type": "stream",
          "name": "stdout",
          "text": [
            "[9, 0, 14, 5, 5, 4, 0, 8, 5, 12, 16]\n"
          ]
        }
      ]
    },
    {
      "cell_type": "code",
      "metadata": {
        "id": "qpvaTUsUNiu9",
        "colab": {
          "base_uri": "https://localhost:8080/"
        },
        "outputId": "c00c5494-7a13-4231-b1d2-5f2c7b93e0d5"
      },
      "source": [
        "# Create a string to store the decrypyted message\n",
        "decrypted_message = \"\"\n",
        "\n",
        "# Concatenate the characters using a for loop to get your final decoded message\n",
        "for key in string_length_list : \n",
        "  decrypted_message = decrypted_message+ alphabet_dict[key]\n",
        "\n",
        "\n",
        "\n",
        "# Print the message you have decrypted\n",
        "print(decrypted_message)"
      ],
      "execution_count": null,
      "outputs": [
        {
          "output_type": "stream",
          "name": "stdout",
          "text": [
            "i need help\n"
          ]
        }
      ]
    },
    {
      "cell_type": "markdown",
      "metadata": {
        "id": "EaYw9Z03TlYa"
      },
      "source": [
        "### <u> Problem 3</u>\n",
        "\n",
        "#### Aliens receive the reply from the scientists. They decode the message and send an encrypted message again. Due to some aberrations because of an existing very massive star, one of the words of their message gets transformed into something gibberish/unreadable. They sent the following message:\n",
        "\n",
        "* <code> I saw a \\<**some gibberish**> please help me soon\n",
        "\n",
        "#### Scientists were baffled by the presence of such an indecipherable word in the message sent by Aliens. Suddenly they receive another signal from them which contains the gibberish word but this time the letters have been jumbled up. Scientists need to sort the letters of this word in alphabetical order within it to get the actual transmitted word\n",
        "\n",
        "#### The encoded list of the unknown word is:\n",
        "\n",
        "```\n",
        "jumbled_word = [\"hugdtck\", \"tsogbklesrawqcbjplu\", \"qkisrubskoaitbt\", \"nslaoetr\", \"oksinjioaendnjsdqwbh\"]\n",
        "```\n"
      ]
    },
    {
      "cell_type": "code",
      "metadata": {
        "id": "--89g4fAVP6i"
      },
      "source": [
        "# Store the list of jumbled word in a variable \n",
        "jumbled_word = [\"hugdtck\", \"tsogbklesrawqcbjplu\", \"qkisrubskoaitbt\", \"nslaoetr\", \"oksinjioaendnjsdqwbh\"]"
      ],
      "execution_count": null,
      "outputs": []
    },
    {
      "cell_type": "code",
      "metadata": {
        "id": "REhBM4O0WB6i",
        "colab": {
          "base_uri": "https://localhost:8080/"
        },
        "outputId": "a8b0c6fd-9855-4422-bfed-098dc64307b0"
      },
      "source": [
        "# Create an empty list \n",
        "string_length_list = []\n",
        "\n",
        "# Append the length of each string in the list using a for loop\n",
        "for jumb_len in jumbled_word:\n",
        "  string_length_list.append(len(jumb_len))\n",
        "  \n",
        "\n",
        "\n",
        "# Print the above list\n",
        "print(string_length_list)\n",
        "\n",
        "# Create another list to store the corresponding characters and add the characters using for loop\n",
        "chars_in_jumbled_state = []\n",
        "\n",
        "for n in string_length_list :\n",
        "  chars_in_jumbled_state.append(alphabet_dict[n])\n",
        "\n",
        "\n",
        "\n",
        "# Print this list of jumbled characters\n",
        "print(chars_in_jumbled_state)"
      ],
      "execution_count": null,
      "outputs": [
        {
          "output_type": "stream",
          "text": [
            "[7, 19, 15, 8, 20]\n",
            "['g', 's', 'o', 'h', 't']\n"
          ],
          "name": "stdout"
        }
      ]
    },
    {
      "cell_type": "code",
      "metadata": {
        "id": "APZPcWabCmL-",
        "colab": {
          "base_uri": "https://localhost:8080/"
        },
        "outputId": "64a275c2-0132-44a8-8520-a98b7a24054e"
      },
      "source": [
        "# Get the  sorted list\n",
        "sorted_char_list = sorted(chars_in_jumbled_state)\n",
        "\n",
        "# Print the sorted list\n",
        "print(sorted_char_list)\n",
        "null_string=''\n",
        "# Get all the characters in one word. Use join() method on a null string and pass the sorted char list as the argument of this method. Use help(join) to know more about it.\n",
        "correct_word = null_string.join(sorted_char_list)\n",
        "\n",
        "# Print the complete message\n",
        "print(f\"I saw a {correct_word} please help me soon\")"
      ],
      "execution_count": null,
      "outputs": [
        {
          "output_type": "stream",
          "text": [
            "['g', 'h', 'o', 's', 't']\n",
            "I saw a ghost please help me soon\n"
          ],
          "name": "stdout"
        }
      ]
    },
    {
      "cell_type": "markdown",
      "metadata": {
        "id": "BhlJiGNfC8r-"
      },
      "source": [
        "## <u> Problem 4</u>\n",
        "\n",
        "### A perfect number is a positive integer that is equal to the sum of its proper divisors. The smallest perfect number is 6, which is the sum of 1, 2, and 3. Based on a given user input, you need to print whether the input is a perfect number or not. Check on sample inputs such as 28, 128, 200, 496"
      ]
    },
    {
      "cell_type": "code",
      "metadata": {
        "id": "lk1KMEkcE2Pt",
        "colab": {
          "base_uri": "https://localhost:8080/"
        },
        "outputId": "9a84c5d3-60c5-4db9-84ae-76b7d65640b8"
      },
      "source": [
        "# Take the user input\n",
        "\n",
        "perfect_number_candidate = int(input())"
      ],
      "execution_count": null,
      "outputs": [
        {
          "name": "stdout",
          "output_type": "stream",
          "text": [
            "48\n"
          ]
        }
      ]
    },
    {
      "cell_type": "code",
      "metadata": {
        "id": "Mu9_oJzaDap8",
        "colab": {
          "base_uri": "https://localhost:8080/"
        },
        "outputId": "09a3a9d9-9e52-4ccd-921e-c848b6e95612"
      },
      "source": [
        "# Using a while loop check if a number is a perfect number\n",
        "\n",
        "sum=0\n",
        "for n in range (1,perfect_number_candidate):\n",
        "  while perfect_number_candidate%n==0 :\n",
        "    print(f'{n} is proper divisor of {perfect_number_candidate}')\n",
        "    sum= sum+n\n",
        "    break\n",
        "    \n",
        "\n",
        "print(f'Sum of proper divisors is {sum}')\n",
        "if sum == perfect_number_candidate :\n",
        "  print(f'{perfect_number_candidate} is Perfect number')\n",
        "else:\n",
        "  print(f'{perfect_number_candidate} is not a perfect number')"
      ],
      "execution_count": null,
      "outputs": [
        {
          "output_type": "stream",
          "name": "stdout",
          "text": [
            "1 is proper divisor of 48\n",
            "2 is proper divisor of 48\n",
            "3 is proper divisor of 48\n",
            "4 is proper divisor of 48\n",
            "6 is proper divisor of 48\n",
            "8 is proper divisor of 48\n",
            "12 is proper divisor of 48\n",
            "16 is proper divisor of 48\n",
            "24 is proper divisor of 48\n",
            "Sum of proper divisors is 76\n",
            "48 is not a perfect number\n"
          ]
        }
      ]
    },
    {
      "cell_type": "markdown",
      "metadata": {
        "id": "hsmBSIrtFvlr"
      },
      "source": [
        "## <u> Problem 5</u>\n",
        "\n",
        "### Consider a famous movie line by Liam Neeson. You need to print only those words from this famous line whose length is greater than 3. Also the output words should be unique.You need to take care of the special characters such as ,. Characters such as apostrophe will be considered to be part of the word."
      ]
    },
    {
      "cell_type": "code",
      "metadata": {
        "id": "E9GOFXVOFcsJ",
        "colab": {
          "base_uri": "https://localhost:8080/"
        },
        "outputId": "41250c55-c13e-4db2-f460-06a027235eeb"
      },
      "source": [
        "# Liam Neeson's quote\n",
        "movie_quote = \"If you let my daughter go now, that'll be the end of it. I will not look for you, I will not pursue you. But if you don't, I will look for you, I will find you, and I will kill you.\"\n",
        "\n",
        "# Remove the characters which are not to be considered. In this case they include characters such as , .\n",
        "modified_movie_quote=movie_quote.replace(',','').replace('.','')\n",
        "\n",
        "\n",
        "# Print the modified movie quote\n",
        "print(modified_movie_quote)"
      ],
      "execution_count": null,
      "outputs": [
        {
          "output_type": "stream",
          "text": [
            "If you let my daughter go now that'll be the end of it I will not look for you I will not pursue you But if you don't I will look for you I will find you and I will kill you\n"
          ],
          "name": "stdout"
        }
      ]
    },
    {
      "cell_type": "code",
      "metadata": {
        "id": "o2ROjZNXHYgW",
        "colab": {
          "base_uri": "https://localhost:8080/"
        },
        "outputId": "78e22fb0-8cf4-4776-9699-e270beed906e"
      },
      "source": [
        "# Convert your sentence to a list of words\n",
        "list_of_words = list(modified_movie_quote.split(' '))\n",
        "\n",
        "\n",
        "# Using a for loop, print the words whose length is greater than 3\n",
        "words_we_want = []\n",
        "for word in list_of_words :\n",
        "  if len(word)>3:\n",
        "    words_we_want.append(word)\n",
        "\n",
        "print(words_we_want)\n",
        "\n",
        "\n",
        "# Take only unique words\n",
        "unique_words = set(words_we_want)\n",
        "print(f\"The unique word list is {unique_words} \")"
      ],
      "execution_count": null,
      "outputs": [
        {
          "output_type": "stream",
          "text": [
            "['daughter', \"that'll\", 'will', 'look', 'will', 'pursue', \"don't\", 'will', 'look', 'will', 'find', 'will', 'kill']\n",
            "The unique word list is {'will', 'daughter', 'find', \"that'll\", 'kill', \"don't\", 'look', 'pursue'} \n"
          ],
          "name": "stdout"
        }
      ]
    },
    {
      "cell_type": "code",
      "metadata": {
        "id": "HdYktKBXHqj9"
      },
      "source": [
        ""
      ],
      "execution_count": null,
      "outputs": []
    }
  ]
}