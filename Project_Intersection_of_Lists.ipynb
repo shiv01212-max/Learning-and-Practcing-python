{
  "nbformat": 4,
  "nbformat_minor": 0,
  "metadata": {
    "kernelspec": {
      "display_name": "Python 3",
      "language": "python",
      "name": "python3"
    },
    "language_info": {
      "codemirror_mode": {
        "name": "ipython",
        "version": 3
      },
      "file_extension": ".py",
      "mimetype": "text/x-python",
      "name": "python",
      "nbconvert_exporter": "python",
      "pygments_lexer": "ipython3",
      "version": "3.7.1"
    },
    "colab": {
      "name": "Guided Project - Intersection of Lists.ipynb",
      "provenance": [],
      "collapsed_sections": [],
      "include_colab_link": true
    }
  },
  "cells": [
    {
      "cell_type": "markdown",
      "metadata": {
        "id": "view-in-github",
        "colab_type": "text"
      },
      "source": [
        "<a href=\"https://colab.research.google.com/github/shiv01212-max/Learning-and-Practcing-python/blob/main/Project_Intersection_of_Lists.ipynb\" target=\"_parent\"><img src=\"https://colab.research.google.com/assets/colab-badge.svg\" alt=\"Open In Colab\"/></a>"
      ]
    },
    {
      "cell_type": "markdown",
      "metadata": {
        "id": "rtBrwN-Aexbo"
      },
      "source": [
        "Given a list of n lists, write a function which returns the intersection of all the n lists. Each list can have any number of elements.\n",
        "\n",
        "Example 1:\n",
        "\n",
        "```\n",
        "input = [[5, 5, 5, 8, 10], \n",
        "      [5, 5, 7, 8], \n",
        "      [5, 5, 8, 9, 11]]\n",
        "```\n",
        "\n",
        "```\n",
        "output = [5, 5, 8]\n",
        "```\n",
        "\n",
        "Example 2:\n",
        "\n",
        "```\n",
        "input = [[5, 6], \n",
        "      [5, 5, 7, 8], \n",
        "      [5, 5, 8, 9]]\n",
        "```\n",
        "\n",
        "\n",
        "```\n",
        "output = [5]\n",
        "```"
      ]
    },
    {
      "cell_type": "code",
      "metadata": {
        "id": "F5n9TqZAyOln"
      },
      "source": [
        "input = [[5, 5, 5, 8, 10], \n",
        "      [5, 5, 7, 8], \n",
        "      [5, 5, 8, 9, 11]]"
      ],
      "execution_count": null,
      "outputs": []
    },
    {
      "cell_type": "code",
      "metadata": {
        "id": "cbFuWy7vxchR"
      },
      "source": [
        "def find_smallest_list(list_of_list):\n",
        "  minimum_len_list= list_of_list[0]\n",
        "  min_len = len(list_of_list[0])\n",
        "  for list_ in list_of_list:\n",
        "    if (len(list_)<min_len):\n",
        "      minimum_len_list = list_\n",
        "      min_len = len(list_)\n",
        "  return minimum_len_list\n"
      ],
      "execution_count": null,
      "outputs": []
    },
    {
      "cell_type": "code",
      "metadata": {
        "id": "pulZhCvxyeO7",
        "colab": {
          "base_uri": "https://localhost:8080/"
        },
        "outputId": "a9d7929d-ab52-48cb-ab6c-32fa74bccf58"
      },
      "source": [
        "smallest_list= find_smallest_list(input)\n",
        "print(smallest_list)"
      ],
      "execution_count": null,
      "outputs": [
        {
          "output_type": "stream",
          "name": "stdout",
          "text": [
            "[5, 5, 7, 8]\n"
          ]
        }
      ]
    },
    {
      "cell_type": "code",
      "metadata": {
        "id": "8mQRT8Z_uO70"
      },
      "source": [
        "def create_frequency_dict(list_):\n",
        "  freq_dict ={}\n",
        "  for elem in list_:\n",
        "    if elem in freq_dict.keys():\n",
        "      freq_dict[elem] += 1\n",
        "    else:\n",
        "      freq_dict[elem] = 1\n",
        "  return freq_dict\n"
      ],
      "execution_count": null,
      "outputs": []
    },
    {
      "cell_type": "code",
      "metadata": {
        "id": "BgnD96TB0rVb",
        "colab": {
          "base_uri": "https://localhost:8080/"
        },
        "outputId": "97e4c1db-dee4-4ea3-c5ce-6f43b04f6b1f"
      },
      "source": [
        "\n",
        "smallest_freq_dict = create_frequency_dict(smallest_list)\n",
        "print(smallest_freq_dict)"
      ],
      "execution_count": null,
      "outputs": [
        {
          "output_type": "stream",
          "name": "stdout",
          "text": [
            "{5: 2, 7: 1, 8: 1}\n"
          ]
        }
      ]
    },
    {
      "cell_type": "code",
      "metadata": {
        "id": "s7L4o_Gy1mjV"
      },
      "source": [
        "def find_intersect_dict(list_of_list,smallest_freq_dict):\n",
        "  for key,value in smallest_freq_dict.items():\n",
        "    for list_ in list_of_list:\n",
        "      if value>list_.count(key):\n",
        "        smallest_freq_dict[key]=list_.count(key)\n",
        "  return smallest_freq_dict\n"
      ],
      "execution_count": null,
      "outputs": []
    },
    {
      "cell_type": "code",
      "metadata": {
        "id": "NK4R0Mbe7dag",
        "colab": {
          "base_uri": "https://localhost:8080/"
        },
        "outputId": "71754d6e-411a-4c8d-ae58-213c0f8591f1"
      },
      "source": [
        "final_frequency_dict=find_intersect_dict(input,smallest_freq_dict)\n",
        "print(final_frequency_dict)"
      ],
      "execution_count": null,
      "outputs": [
        {
          "output_type": "stream",
          "name": "stdout",
          "text": [
            "{5: 2, 7: 0, 8: 1}\n"
          ]
        }
      ]
    },
    {
      "cell_type": "code",
      "metadata": {
        "id": "tO1xXJ2R7jYC"
      },
      "source": [
        "def create_intersention_list(final_frequency_dict):\n",
        "  intersecting_list= []\n",
        "  for key,value in final_frequency_dict.items():\n",
        "    intersecting_list += [key]*value\n",
        "  return intersecting_list\n"
      ],
      "execution_count": null,
      "outputs": []
    },
    {
      "cell_type": "code",
      "metadata": {
        "id": "6eqkpoxI8wav",
        "colab": {
          "base_uri": "https://localhost:8080/"
        },
        "outputId": "47ff3865-663e-4748-d0dc-6a7c03397e09"
      },
      "source": [
        "final_intersecting_list= create_intersention_list(final_frequency_dict)\n",
        "print(final_intersecting_list)"
      ],
      "execution_count": null,
      "outputs": [
        {
          "output_type": "stream",
          "name": "stdout",
          "text": [
            "[5, 5, 8]\n"
          ]
        }
      ]
    },
    {
      "cell_type": "code",
      "metadata": {
        "id": "RXoj3HDi87pW"
      },
      "source": [
        "def driver_function(input):\n",
        "  smallest_list= find_smallest_list(input)\n",
        "  smallest_freq_dict = create_frequency_dict(smallest_list)\n",
        "  final_frequency_dict=find_intersect_dict(input,smallest_freq_dict)\n",
        "  final_intersecting_list= create_intersention_list(final_frequency_dict)\n",
        "  return final_intersecting_list\n"
      ],
      "execution_count": null,
      "outputs": []
    },
    {
      "cell_type": "code",
      "metadata": {
        "id": "W0cZmihEA7ns"
      },
      "source": [
        "my_list =[[5, 5, 5, 8, 10,11], \n",
        "      [5, 5, 7, 8,11], \n",
        "      [5, 5, 8, 9, 11]]"
      ],
      "execution_count": null,
      "outputs": []
    },
    {
      "cell_type": "code",
      "metadata": {
        "colab": {
          "base_uri": "https://localhost:8080/"
        },
        "id": "JaAUE8WhBGpc",
        "outputId": "8b0b3d33-8f21-4258-c426-0905561858a6"
      },
      "source": [
        "driver_function(my_list)"
      ],
      "execution_count": null,
      "outputs": [
        {
          "output_type": "execute_result",
          "data": {
            "text/plain": [
              "[5, 5, 8, 11]"
            ]
          },
          "metadata": {},
          "execution_count": 23
        }
      ]
    },
    {
      "cell_type": "code",
      "metadata": {
        "id": "tkWptzozBK6r"
      },
      "source": [
        ""
      ],
      "execution_count": null,
      "outputs": []
    }
  ]
}