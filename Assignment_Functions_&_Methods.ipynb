{
  "nbformat": 4,
  "nbformat_minor": 0,
  "metadata": {
    "colab": {
      "name": "Assignment - Functions & Methods.ipynb",
      "provenance": [],
      "collapsed_sections": [],
      "include_colab_link": true
    },
    "kernelspec": {
      "display_name": "Python 3",
      "language": "python",
      "name": "python3"
    },
    "language_info": {
      "codemirror_mode": {
        "name": "ipython",
        "version": 3
      },
      "file_extension": ".py",
      "mimetype": "text/x-python",
      "name": "python",
      "nbconvert_exporter": "python",
      "pygments_lexer": "ipython3",
      "version": "3.7.3"
    }
  },
  "cells": [
    {
      "cell_type": "markdown",
      "metadata": {
        "id": "view-in-github",
        "colab_type": "text"
      },
      "source": [
        "<a href=\"https://colab.research.google.com/github/shiv01212-max/Learning-and-Practcing-python/blob/main/Assignment_Functions_%26_Methods.ipynb\" target=\"_parent\"><img src=\"https://colab.research.google.com/assets/colab-badge.svg\" alt=\"Open In Colab\"/></a>"
      ]
    },
    {
      "cell_type": "markdown",
      "metadata": {
        "id": "Aq5jjKHb-zdZ"
      },
      "source": [
        "# <u> Problem 1</u>\n",
        "\n",
        "### Write a function which takes the excel column name as an input and returns the corresponding column number. A few examples are :\n",
        "\n",
        "* column name = <code>'J'</code> , column number = <code>10</code>\n",
        "* column name = <code>'AP'</code> , column number = <code>42</code>\n",
        "* column name = <code>'AAA'</code>, column number = <code>703</code>\n"
      ]
    },
    {
      "cell_type": "code",
      "metadata": {
        "id": "YEQsKGrxYTmp",
        "colab": {
          "base_uri": "https://localhost:8080/"
        },
        "outputId": "a1994fb1-6526-4f8d-cee7-ea0a03107f78"
      },
      "source": [
        "alphabet_position_list= [i for i in range(1,27)]\n",
        "print(alphabet_position_list)\n",
        "alphabet_list = ['A','B','C','D','E','F','G','H','I','J','K','L','M','N','O','P','Q','R','S','T','U','V','W','X','Y','Z']\n",
        "alphabet_dict = dict(zip(alphabet_list,alphabet_position_list))\n",
        "print(alphabet_dict)"
      ],
      "execution_count": null,
      "outputs": [
        {
          "output_type": "stream",
          "text": [
            "[1, 2, 3, 4, 5, 6, 7, 8, 9, 10, 11, 12, 13, 14, 15, 16, 17, 18, 19, 20, 21, 22, 23, 24, 25, 26]\n",
            "{'A': 1, 'B': 2, 'C': 3, 'D': 4, 'E': 5, 'F': 6, 'G': 7, 'H': 8, 'I': 9, 'J': 10, 'K': 11, 'L': 12, 'M': 13, 'N': 14, 'O': 15, 'P': 16, 'Q': 17, 'R': 18, 'S': 19, 'T': 20, 'U': 21, 'V': 22, 'W': 23, 'X': 24, 'Y': 25, 'Z': 26}\n"
          ],
          "name": "stdout"
        }
      ]
    },
    {
      "cell_type": "code",
      "metadata": {
        "id": "Un0QXOa3-zdb"
      },
      "source": [
        "def get_excel_column_number(column_name):\n",
        "  '''\n",
        "  This functions returns the corresponding column number for an excel column name\n",
        "  '''\n",
        "  # Write your code here\n",
        "  column_number= 0\n",
        "  for n in range(len(column_name)):\n",
        "    column_number = column_number*26\n",
        "    column_number = column_number+ alphabet_dict[column_name[n]]\n",
        "  return column_number\n",
        "\n",
        "\n",
        "\n",
        "\n",
        "  "
      ],
      "execution_count": null,
      "outputs": []
    },
    {
      "cell_type": "code",
      "metadata": {
        "id": "VFSrFUwP-zdd",
        "colab": {
          "base_uri": "https://localhost:8080/"
        },
        "outputId": "ec3e0727-aed7-427f-c09e-716ee2e28b31"
      },
      "source": [
        "# Check\n",
        "get_excel_column_number('BD')"
      ],
      "execution_count": null,
      "outputs": [
        {
          "output_type": "execute_result",
          "data": {
            "text/plain": [
              "56"
            ]
          },
          "metadata": {},
          "execution_count": 19
        }
      ]
    },
    {
      "cell_type": "code",
      "metadata": {
        "id": "AZaQlyAc-zde",
        "colab": {
          "base_uri": "https://localhost:8080/"
        },
        "outputId": "8c044fd9-6a3d-4f5b-a173-5b318bb4dfb7"
      },
      "source": [
        "# Check\n",
        "get_excel_column_number('ALQ')"
      ],
      "execution_count": null,
      "outputs": [
        {
          "output_type": "execute_result",
          "data": {
            "text/plain": [
              "1005"
            ]
          },
          "metadata": {},
          "execution_count": 20
        }
      ]
    },
    {
      "cell_type": "code",
      "metadata": {
        "id": "d05dOaP4eA15",
        "colab": {
          "base_uri": "https://localhost:8080/"
        },
        "outputId": "a5d19029-fe47-453a-96db-33f69870e1a9"
      },
      "source": [
        "get_excel_column_number('ABCDRFG')"
      ],
      "execution_count": null,
      "outputs": [
        {
          "output_type": "execute_result",
          "data": {
            "text/plain": [
              "334132091"
            ]
          },
          "metadata": {},
          "execution_count": 21
        }
      ]
    },
    {
      "cell_type": "markdown",
      "metadata": {
        "id": "zh_MA_BN-zd5"
      },
      "source": [
        "# <u> Problem 2</u>\n",
        "\n",
        "### We evaluate a standard machine learning classification model using various evaluation metrics. A classification model is a model which classifies a given observation or an event to a fixed set of categories. Suppose I train a machine learning model to classify images of cats and dogs. For each image, the machine classifies the image with either a <code>'Cat'</code> or a <code>'Dog'</code>. So in essence for each input image, there is a corresponding output by the model. This output can either be a <code>'Cat'</code> or a <code>'Dog'</code>.\n",
        "\n",
        "### To evaluate such a machine learning model which is trained to classify a given observation with at most two labels, a lot of candidate evaluation metrics are available. Accuracy is one of such evaluation metrics. \n",
        "\n",
        "### <u> Accuracy defintion </u> : Suppose you are given 20 input images of cats and dogs. You already know from these images that there are 11 cats and 9 dogs. You train a machine learning model to classify these images into cats and dogs. The machine predicts 9 cats correctly and 8 dogs correctly. The accuracy of the model is then defined as (correctly predicted cats and dogs)/(total cats and dogs). In this case it is (9+8)/(11+9) = 17/20 = 0.85 or 85%. It is a good practice to report the accuracy in percentages\n",
        "\n"
      ]
    },
    {
      "cell_type": "markdown",
      "metadata": {
        "id": "cp2SUazju_D7"
      },
      "source": [
        "### You are given two lists each of length 20 : one list contains the actual labels for the images of cats and dogs. The other list contains the predicted labels (by the machine) for the images of cats and dogs.\n",
        "\n",
        "### How to read the two lists ? For example for the first image, actual label is Cat and the predicted label is Cat. For the last image, actual label is Dog and the predicted label is Cat. The same index in the two lists corresponds to the same image"
      ]
    },
    {
      "cell_type": "code",
      "metadata": {
        "id": "BPsQbNPjvjAT"
      },
      "source": [
        "actual_labels = ['Cat','Dog','Cat','Cat','Dog','Cat','Dog','Cat','Cat','Cat','Dog','Dog','Cat','Cat','Cat','Dog','Dog','Dog','Cat','Dog']"
      ],
      "execution_count": null,
      "outputs": []
    },
    {
      "cell_type": "code",
      "metadata": {
        "id": "MDefeYf1v4pT"
      },
      "source": [
        "predicted_labels = ['Cat','Dog','Cat','Cat','Dog','Cat','Dog','Cat','Dog','Dog','Dog','Dog','Cat','Cat','Cat','Dog','Dog','Dog','Cat','Cat']"
      ],
      "execution_count": null,
      "outputs": []
    },
    {
      "cell_type": "markdown",
      "metadata": {
        "id": "hzLROuvWwZAL"
      },
      "source": [
        "### Write a function to calculate the accuracy. This functions takes two lists as inputs and returns the accuracy score in percentage"
      ]
    },
    {
      "cell_type": "code",
      "metadata": {
        "id": "HvDJXfL3-zd6"
      },
      "source": [
        "def calculate_accuracy(actual, predicted):\n",
        "  '''\n",
        "  This functions calculates the accuracy based on two input lists\n",
        "  '''\n",
        "  correct_prediction=0\n",
        "  # Write your code here\n",
        "  for i in range(len(actual)):\n",
        "    if actual[i]==predicted[i]:\n",
        "      correct_prediction += 1\n",
        "  return (correct_prediction/len(actual))*100\n",
        "\n",
        "\n",
        "\n",
        "\n",
        "\n",
        "\n"
      ],
      "execution_count": null,
      "outputs": []
    },
    {
      "cell_type": "code",
      "metadata": {
        "id": "At0m0hcc-zd_",
        "colab": {
          "base_uri": "https://localhost:8080/"
        },
        "outputId": "8e3cfe6c-3975-40e2-c25b-07a76925065b"
      },
      "source": [
        "# Print the accuracy score for the given lists\n",
        "calculate_accuracy(actual_labels,predicted_labels)"
      ],
      "execution_count": null,
      "outputs": [
        {
          "output_type": "execute_result",
          "data": {
            "text/plain": [
              "85.0"
            ]
          },
          "metadata": {},
          "execution_count": 36
        }
      ]
    },
    {
      "cell_type": "markdown",
      "metadata": {
        "id": "YyYwXAlax36r"
      },
      "source": [
        "* ### <b><u>Precision</u></b> for cats is defined as the number of correctly predicted cats divided by the number of predicted cats. Report precision in percentages.\n",
        "\n",
        "* ### <b><u>Recall</u></b> for cats is defined as the number of correctly predicted cats divided by the actual number of cats. Report recall in percentages.\n",
        "\n",
        "### We can define the same two metrics for dogs as well. \n"
      ]
    },
    {
      "cell_type": "code",
      "metadata": {
        "id": "BJ4mHLb4qZh4",
        "colab": {
          "base_uri": "https://localhost:8080/"
        },
        "outputId": "ca964cdd-955c-40d8-b53b-31228e0a3acf"
      },
      "source": [
        "print(actual_labels)\n",
        "print(predicted_labels)\n",
        "print(predicted_labels.count('Dog'))\n",
        "print(actual_labels.count('Dog'))"
      ],
      "execution_count": null,
      "outputs": [
        {
          "output_type": "stream",
          "name": "stdout",
          "text": [
            "['Cat', 'Dog', 'Cat', 'Cat', 'Dog', 'Cat', 'Dog', 'Cat', 'Cat', 'Cat', 'Dog', 'Dog', 'Cat', 'Cat', 'Cat', 'Dog', 'Dog', 'Dog', 'Cat', 'Dog']\n",
            "['Cat', 'Dog', 'Cat', 'Cat', 'Dog', 'Cat', 'Dog', 'Cat', 'Dog', 'Dog', 'Dog', 'Dog', 'Cat', 'Cat', 'Cat', 'Dog', 'Dog', 'Dog', 'Cat', 'Cat']\n",
            "10\n",
            "9\n"
          ]
        }
      ]
    },
    {
      "cell_type": "markdown",
      "metadata": {
        "id": "VwYIek-9yd4n"
      },
      "source": [
        "# <u> Problem 3 </u> \n",
        "\n",
        "### Write a Python function which returns the precision and recall for a given input label. Use the same two lists"
      ]
    },
    {
      "cell_type": "code",
      "metadata": {
        "id": "SojiZTMSyY4T",
        "colab": {
          "base_uri": "https://localhost:8080/"
        },
        "outputId": "eadb4046-83d7-451c-95af-6c62c9a26b58"
      },
      "source": [
        "def precision_recall(label = 'Dog'):\n",
        "  '''\n",
        "  This functions returns a tuple of precision and recall for a given input label\n",
        "  '''\n",
        "  actual= actual_labels\n",
        "  predicted= predicted_labels\n",
        "  correct_lebel_prediction=0\n",
        "  # Your code here\n",
        "  for i in range(len(actual)):\n",
        "    if actual[i]==predicted[i]== label:\n",
        "      correct_lebel_prediction += 1\n",
        "  precision = (correct_lebel_prediction/predicted_labels.count(label))*100\n",
        "  recall = (correct_lebel_prediction/actual_labels.count(label))*100\n",
        "  return (precision, recall)\n",
        "\n",
        "print(precision_recall(label = 'Cat'))\n",
        "\n",
        "\n",
        "\n",
        "\n",
        "\n",
        "  "
      ],
      "execution_count": null,
      "outputs": [
        {
          "output_type": "stream",
          "name": "stdout",
          "text": [
            "(90.0, 81.81818181818183)\n"
          ]
        }
      ]
    },
    {
      "cell_type": "markdown",
      "metadata": {
        "id": "I-5eBWXa1Mla"
      },
      "source": [
        "# <u> Problem 4 </u>\n",
        "\n",
        "### Write a Python function which takes a sentence and a length value as inputs and returns the counts of those words from the sentence whose length is equal to the provided input length value.\n",
        "\n",
        "### Suppose if the input for the length value is 5, it will return the count of all those words which are of length 5"
      ]
    },
    {
      "cell_type": "code",
      "metadata": {
        "id": "9ueu9nJx1uUZ"
      },
      "source": [
        "marvel_quote = \"The world has changed and none of us can go back. All we can do is our best, and sometimes the best that we can do is to start over.\""
      ],
      "execution_count": null,
      "outputs": []
    },
    {
      "cell_type": "code",
      "metadata": {
        "id": "tMTNCa61yx__",
        "colab": {
          "base_uri": "https://localhost:8080/"
        },
        "outputId": "2c25d934-6555-491c-9a60-0cba0dfebb6f"
      },
      "source": [
        "marvel_quote.count('go')"
      ],
      "execution_count": null,
      "outputs": [
        {
          "output_type": "execute_result",
          "data": {
            "text/plain": [
              "1"
            ]
          },
          "metadata": {},
          "execution_count": 8
        }
      ]
    },
    {
      "cell_type": "code",
      "metadata": {
        "id": "OuU8iZ0S3K_f",
        "colab": {
          "base_uri": "https://localhost:8080/"
        },
        "outputId": "22619f08-958c-408f-9353-f44bb513d725"
      },
      "source": [
        "# Your function below. Make sure to remove the special characters such as full stop and comma.\n",
        "def fixed_length_word_counts(sentence, length=3):\n",
        "  '''\n",
        "  This function returns the count of the words with the given input length\n",
        "  '''\n",
        "  count_words=0\n",
        "  # Your code below\n",
        "  sentence= sentence.replace(\",\",\"\").replace(\".\",\"\")\n",
        "  print(sentence)\n",
        "  words_list= list(sentence.split(' '))\n",
        "  for word in words_list:\n",
        "    if len(word)== length:\n",
        "      count_words+=1\n",
        "  return count_words\n",
        "  \n",
        "\n",
        "print(fixed_length_word_counts(marvel_quote, length=4))\n",
        "\n"
      ],
      "execution_count": null,
      "outputs": [
        {
          "output_type": "stream",
          "name": "stdout",
          "text": [
            "The world has changed and none of us can go back All we can do is our best and sometimes the best that we can do is to start over\n",
            "6\n"
          ]
        }
      ]
    },
    {
      "cell_type": "code",
      "metadata": {
        "id": "R946HwKc3bxJ"
      },
      "source": [
        ""
      ],
      "execution_count": null,
      "outputs": []
    }
  ]
}